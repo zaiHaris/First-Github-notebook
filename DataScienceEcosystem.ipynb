{
 "cells": [
  {
   "cell_type": "markdown",
   "id": "672bb0d1",
   "metadata": {},
   "source": [
    "# Data Science Tools And Ecosystem"
   ]
  },
  {
   "cell_type": "markdown",
   "id": "3a499e24",
   "metadata": {},
   "source": [
    "# In this notebook, data science tools and ecosystem are summarized"
   ]
  },
  {
   "cell_type": "markdown",
   "id": "51403e8c",
   "metadata": {},
   "source": [
    "***Objectives:***\n",
    "* Some of the popular language data scientist use\n",
    "* Data scince tools\n",
    "* Arithmetic expression"
   ]
  },
  {
   "cell_type": "markdown",
   "id": "20aa6864",
   "metadata": {},
   "source": [
    "# Some of the popular language data scientists use are:\n",
    "1. Python\n",
    "2. R\n",
    "3. C++"
   ]
  },
  {
   "cell_type": "markdown",
   "id": "27bc44b9",
   "metadata": {},
   "source": [
    "# Some of the commonly used libraries used by Data Scientists include:\n",
    "1. Tensor flow\n",
    "2. NumPy\n",
    "3. Scipy"
   ]
  },
  {
   "cell_type": "markdown",
   "id": "430d93c5",
   "metadata": {},
   "source": [
    "| Data Science Tools |\n",
    "|--------------------|\n",
    "RStudio\n",
    "Apache Spark\n",
    "Tensor Flow"
   ]
  },
  {
   "cell_type": "markdown",
   "id": "e2cd2b88",
   "metadata": {},
   "source": [
    "### Below are a few examples of evaluating arithmetic expressions in Python"
   ]
  },
  {
   "cell_type": "code",
   "execution_count": 4,
   "id": "41fd329d",
   "metadata": {},
   "outputs": [
    {
     "data": {
      "text/plain": [
       "17"
      ]
     },
     "execution_count": 4,
     "metadata": {},
     "output_type": "execute_result"
    }
   ],
   "source": [
    "# This a simple arithmetic expression to mutiply then add integers\n",
    "(3*4)+5"
   ]
  },
  {
   "cell_type": "code",
   "execution_count": 15,
   "id": "19ee56dd",
   "metadata": {},
   "outputs": [
    {
     "name": "stdout",
     "output_type": "stream",
     "text": [
      "3.3333333333333335 hours\n"
     ]
    }
   ],
   "source": [
    "# This will convert 200 minutes to hours by diving by 60\n",
    "a = str (200/60)\n",
    "print(a + \" hours\")"
   ]
  },
  {
   "cell_type": "markdown",
   "id": "773b7e55",
   "metadata": {},
   "source": [
    "## Author\n",
    "Haris Iqbal Khan"
   ]
  },
  {
   "cell_type": "code",
   "execution_count": null,
   "id": "05221c1d",
   "metadata": {},
   "outputs": [],
   "source": []
  }
 ],
 "metadata": {
  "kernelspec": {
   "display_name": "Python 3 (ipykernel)",
   "language": "python",
   "name": "python3"
  },
  "language_info": {
   "codemirror_mode": {
    "name": "ipython",
    "version": 3
   },
   "file_extension": ".py",
   "mimetype": "text/x-python",
   "name": "python",
   "nbconvert_exporter": "python",
   "pygments_lexer": "ipython3",
   "version": "3.10.11"
  }
 },
 "nbformat": 4,
 "nbformat_minor": 5
}
